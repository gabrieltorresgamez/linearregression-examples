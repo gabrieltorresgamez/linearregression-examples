{
 "cells": [
  {
   "cell_type": "code",
   "execution_count": 1,
   "id": "4632dbb5",
   "metadata": {},
   "outputs": [],
   "source": [
    "import numpy as np\n",
    "import pandas as pd\n",
    "import matplotlib.pyplot as plt\n",
    "from sklearn.linear_model import LinearRegression"
   ]
  },
  {
   "cell_type": "code",
   "execution_count": 2,
   "id": "61fd3c13",
   "metadata": {},
   "outputs": [],
   "source": [
    "data = pd.read_excel(\"data/auto.xlsx\")\n",
    "data = data.set_index(\"Auto\")"
   ]
  },
  {
   "cell_type": "code",
   "execution_count": 3,
   "id": "61cbfcce",
   "metadata": {},
   "outputs": [],
   "source": [
    "x = data[\"Bremsweg\"].values.reshape(-1, 1)\n",
    "y = data[\"Geschwindigkeit\"].values"
   ]
  },
  {
   "cell_type": "code",
   "execution_count": 4,
   "id": "aeecd10e",
   "metadata": {},
   "outputs": [],
   "source": [
    "model = LinearRegression().fit(x, y)"
   ]
  },
  {
   "cell_type": "code",
   "execution_count": 5,
   "id": "124872fb",
   "metadata": {},
   "outputs": [
    {
     "name": "stdout",
     "output_type": "stream",
     "text": [
      "y = 2.412132987910191 * x + 30.82836787564763\n"
     ]
    }
   ],
   "source": [
    "print(\"y =\", model.coef_[0], \"* x +\", model.intercept_)"
   ]
  },
  {
   "cell_type": "code",
   "execution_count": 6,
   "id": "036c08fe",
   "metadata": {},
   "outputs": [
    {
     "data": {
      "text/plain": [
       "[<matplotlib.lines.Line2D at 0x7fb664077e80>]"
      ]
     },
     "execution_count": 6,
     "metadata": {},
     "output_type": "execute_result"
    },
    {
     "data": {
      "image/png": "[encoded data removed]",
      "text/plain": [
       "<Figure size 432x288 with 1 Axes>"
      ]
     },
     "metadata": {
      "needs_background": "light"
     },
     "output_type": "display_data"
    }
   ],
   "source": [
    "plt.scatter(x, y)\n",
    "plt.plot(x, model.coef_ * x + model.intercept_, color = \"r\")"
   ]
  },
  {
   "cell_type": "code",
   "execution_count": 7,
   "id": "70835322",
   "metadata": {},
   "outputs": [
    {
     "name": "stdout",
     "output_type": "stream",
     "text": [
      "R2: 0.25353491885155743\n"
     ]
    }
   ],
   "source": [
    "r2 = model.score(x, y)\n",
    "print(\"R2:\", r2)"
   ]
  },
  {
   "cell_type": "code",
   "execution_count": 8,
   "id": "2f2e7abf",
   "metadata": {},
   "outputs": [
    {
     "data": {
      "text/plain": [
       "[<matplotlib.lines.Line2D at 0x7fb680f46e50>]"
      ]
     },
     "execution_count": 8,
     "metadata": {},
     "output_type": "execute_result"
    },
    {
     "data": {
      "image/png": "[encoded data removed]",
      "text/plain": [
       "<Figure size 432x288 with 1 Axes>"
      ]
     },
     "metadata": {
      "needs_background": "light"
     },
     "output_type": "display_data"
    }
   ],
   "source": [
    "plt.scatter(x, y - model.predict(x))\n",
    "plt.plot(x, 0 * x, color = \"r\")"
   ]
  },
  {
   "cell_type": "code",
   "execution_count": 9,
   "id": "8ceb2567",
   "metadata": {},
   "outputs": [
    {
     "data": {
      "image/png": "[encoded data removed]",
      "text/plain": [
       "<Figure size 432x288 with 1 Axes>"
      ]
     },
     "metadata": {
      "needs_background": "light"
     },
     "output_type": "display_data"
    }
   ],
   "source": [
    "plt.hist(y - model.predict(x), bins = 20)\n",
    "plt.show()"
   ]
  }
 ],
 "metadata": {
  "kernelspec": {
   "display_name": "Python 3 (ipykernel)",
   "language": "python",
   "name": "python3"
  },
  "language_info": {
   "codemirror_mode": {
    "name": "ipython",
    "version": 3
   },
   "file_extension": ".py",
   "mimetype": "text/x-python",
   "name": "python",
   "nbconvert_exporter": "python",
   "pygments_lexer": "ipython3",
   "version": "3.9.7"
  }
 },
 "nbformat": 4,
 "nbformat_minor": 5
}
