{
 "cells": [
  {
   "cell_type": "markdown",
   "id": "c6aa2956",
   "metadata": {},
   "source": [
    "Import Libraries"
   ]
  },
  {
   "cell_type": "code",
   "execution_count": 1,
   "id": "c609d778",
   "metadata": {},
   "outputs": [],
   "source": [
    "import numpy as np\n",
    "import pandas as pd\n",
    "import matplotlib.pyplot as plt\n",
    "from sklearn.linear_model import LogisticRegression"
   ]
  },
  {
   "cell_type": "markdown",
   "id": "5f030b9a",
   "metadata": {},
   "source": [
    "Import Data + Data Wrangling"
   ]
  },
  {
   "cell_type": "code",
   "execution_count": 2,
   "id": "98ef2495",
   "metadata": {},
   "outputs": [],
   "source": [
    "data = pd.read_csv(\"Umfragedaten_v1_an.csv\")\n",
    "data[\"RAUCH\"] = data[\"RAUCH\"].map({\"NEIN\": 0, \"JA\": 1})\n",
    "data = data[data[\"NETTO\"].notna()]\n",
    "data = data[data[\"RAUCH\"].notna()]"
   ]
  },
  {
   "cell_type": "markdown",
   "id": "442b23b2",
   "metadata": {},
   "source": [
    "Setting up data for regression"
   ]
  },
  {
   "cell_type": "code",
   "execution_count": 3,
   "id": "8fef1d0a",
   "metadata": {},
   "outputs": [],
   "source": [
    "x_fit = data[\"NETTO\"].values.reshape(-1, 1)\n",
    "y_fit = data[\"RAUCH\"].values"
   ]
  },
  {
   "cell_type": "markdown",
   "id": "cec9d8b0",
   "metadata": {},
   "source": [
    "Plot our data"
   ]
  },
  {
   "cell_type": "code",
   "execution_count": 4,
   "id": "ada7a1dc",
   "metadata": {},
   "outputs": [
    {
     "data": {
      "text/plain": [
       "<matplotlib.collections.PathCollection at 0x7fcb1807c040>"
      ]
     },
     "execution_count": 4,
     "metadata": {},
     "output_type": "execute_result"
    },
    {
     "data": {
      "image/png": "[encoded data removed]",
      "text/plain": [
       "<Figure size 432x288 with 1 Axes>"
      ]
     },
     "metadata": {
      "needs_background": "light"
     },
     "output_type": "display_data"
    }
   ],
   "source": [
    "plt.scatter(x_fit, y_fit)"
   ]
  },
  {
   "cell_type": "markdown",
   "id": "77aae17a",
   "metadata": {},
   "source": [
    "Create model and predict some values"
   ]
  },
  {
   "cell_type": "code",
   "execution_count": 5,
   "id": "e583a64a",
   "metadata": {},
   "outputs": [],
   "source": [
    "model = LogisticRegression().fit(x_fit, y_fit)\n",
    "x_predict = [[i] for i in range(60000)]\n",
    "y_predict = model.predict_proba(x_predict)\n",
    "y_predict = [[i[1]] for i in y_predict]"
   ]
  },
  {
   "cell_type": "markdown",
   "id": "e6a85cbc",
   "metadata": {},
   "source": [
    "Plot our model with data"
   ]
  },
  {
   "cell_type": "code",
   "execution_count": 6,
   "id": "d00249c2",
   "metadata": {},
   "outputs": [
    {
     "data": {
      "text/plain": [
       "[<matplotlib.lines.Line2D at 0x7fcb18ef4d60>]"
      ]
     },
     "execution_count": 6,
     "metadata": {},
     "output_type": "execute_result"
    },
    {
     "data": {
      "image/png": "[encoded data removed]",
      "text/plain": [
       "<Figure size 432x288 with 1 Axes>"
      ]
     },
     "metadata": {
      "needs_background": "light"
     },
     "output_type": "display_data"
    }
   ],
   "source": [
    "plt.scatter(x_fit, y_fit)\n",
    "plt.plot(x_predict, y_predict)"
   ]
  },
  {
   "cell_type": "markdown",
   "id": "0eb4e1de",
   "metadata": {},
   "source": [
    "Logarithmize x scale for better readability"
   ]
  },
  {
   "cell_type": "code",
   "execution_count": 7,
   "id": "2e222d9b",
   "metadata": {},
   "outputs": [],
   "source": [
    "x_fit_log = np.log(x_fit)"
   ]
  },
  {
   "cell_type": "markdown",
   "id": "9e5d58d2",
   "metadata": {},
   "source": [
    "Create model and predict some values"
   ]
  },
  {
   "cell_type": "code",
   "execution_count": 8,
   "id": "b69a5854",
   "metadata": {},
   "outputs": [],
   "source": [
    "model_log = LogisticRegression().fit(x_fit_log, y_fit)\n",
    "x_predict_log = [[i] for i in range(-15, 35)]\n",
    "y_predict_log = model_log.predict_proba(x_predict_log)\n",
    "y_predict_log = [[i[1]] for i in y_predict_log]"
   ]
  },
  {
   "cell_type": "markdown",
   "id": "2a1bda7d",
   "metadata": {},
   "source": [
    "Plot our new model with data"
   ]
  },
  {
   "cell_type": "code",
   "execution_count": 9,
   "id": "b6b68d75",
   "metadata": {},
   "outputs": [
    {
     "data": {
      "text/plain": [
       "[<matplotlib.lines.Line2D at 0x7fcb2bd1d4f0>]"
      ]
     },
     "execution_count": 9,
     "metadata": {},
     "output_type": "execute_result"
    },
    {
     "data": {
      "image/png": "[encoded data removed]",
      "text/plain": [
       "<Figure size 432x288 with 1 Axes>"
      ]
     },
     "metadata": {
      "needs_background": "light"
     },
     "output_type": "display_data"
    }
   ],
   "source": [
    "plt.scatter(x_fit_log, y_fit)\n",
    "plt.plot(x_predict_log, y_predict_log)"
   ]
  },
  {
   "cell_type": "markdown",
   "id": "7186f7fc",
   "metadata": {},
   "source": [
    "Predict smoking status of person with income of 2000"
   ]
  },
  {
   "cell_type": "code",
   "execution_count": 10,
   "id": "1b0f8879",
   "metadata": {},
   "outputs": [
    {
     "name": "stdout",
     "output_type": "stream",
     "text": [
      "29.54420066090507 %\n"
     ]
    }
   ],
   "source": [
    "income = 2000\n",
    "print(model.predict_proba([[income]])[0][1] * 100, \"%\")"
   ]
  }
 ],
 "metadata": {
  "kernelspec": {
   "display_name": "Python 3 (ipykernel)",
   "language": "python",
   "name": "python3"
  },
  "language_info": {
   "codemirror_mode": {
    "name": "ipython",
    "version": 3
   },
   "file_extension": ".py",
   "mimetype": "text/x-python",
   "name": "python",
   "nbconvert_exporter": "python",
   "pygments_lexer": "ipython3",
   "version": "3.9.7"
  }
 },
 "nbformat": 4,
 "nbformat_minor": 5
}
