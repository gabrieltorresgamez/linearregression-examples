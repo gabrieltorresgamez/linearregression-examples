{
 "cells": [
  {
   "cell_type": "markdown",
   "id": "ebd0de27",
   "metadata": {},
   "source": [
    "all needed libraries for linear and logistic regression"
   ]
  },
  {
   "cell_type": "code",
   "execution_count": 1,
   "id": "af4790f7",
   "metadata": {},
   "outputs": [],
   "source": [
    "import numpy as np\n",
    "import pandas as pd\n",
    "import matplotlib.pyplot as plt\n",
    "from sklearn.linear_model import LinearRegression as lir\n",
    "from sklearn.linear_model import LogisticRegression as lor\n",
    "from sklearn.model_selection import train_test_split as sp"
   ]
  },
  {
   "cell_type": "markdown",
   "id": "6f8bd008",
   "metadata": {},
   "source": [
    "import data"
   ]
  },
  {
   "cell_type": "code",
   "execution_count": 2,
   "id": "04eabcdc",
   "metadata": {},
   "outputs": [
    {
     "data": {
      "text/html": [
       "<div>\n",
       "<style scoped>\n",
       "    .dataframe tbody tr th:only-of-type {\n",
       "        vertical-align: middle;\n",
       "    }\n",
       "\n",
       "    .dataframe tbody tr th {\n",
       "        vertical-align: top;\n",
       "    }\n",
       "\n",
       "    .dataframe thead th {\n",
       "        text-align: right;\n",
       "    }\n",
       "</style>\n",
       "<table border=\"1\" class=\"dataframe\">\n",
       "  <thead>\n",
       "    <tr style=\"text-align: right;\">\n",
       "      <th></th>\n",
       "      <th>Stunden</th>\n",
       "      <th>Punkte</th>\n",
       "      <th>Bestande</th>\n",
       "    </tr>\n",
       "  </thead>\n",
       "  <tbody>\n",
       "    <tr>\n",
       "      <th>0</th>\n",
       "      <td>2</td>\n",
       "      <td>49</td>\n",
       "      <td>WHACK</td>\n",
       "    </tr>\n",
       "    <tr>\n",
       "      <th>1</th>\n",
       "      <td>7</td>\n",
       "      <td>38</td>\n",
       "      <td>WHACK</td>\n",
       "    </tr>\n",
       "    <tr>\n",
       "      <th>2</th>\n",
       "      <td>0</td>\n",
       "      <td>7</td>\n",
       "      <td>WHACK</td>\n",
       "    </tr>\n",
       "    <tr>\n",
       "      <th>3</th>\n",
       "      <td>12</td>\n",
       "      <td>129</td>\n",
       "      <td>Durchschnitt</td>\n",
       "    </tr>\n",
       "    <tr>\n",
       "      <th>4</th>\n",
       "      <td>1</td>\n",
       "      <td>4</td>\n",
       "      <td>WHACK</td>\n",
       "    </tr>\n",
       "  </tbody>\n",
       "</table>\n",
       "</div>"
      ],
      "text/plain": [
       "   Stunden  Punkte      Bestande\n",
       "0        2      49         WHACK\n",
       "1        7      38         WHACK\n",
       "2        0       7         WHACK\n",
       "3       12     129  Durchschnitt\n",
       "4        1       4         WHACK"
      ]
     },
     "execution_count": 2,
     "metadata": {},
     "output_type": "execute_result"
    }
   ],
   "source": [
    "data = pd.read_excel(\"data/grades.xlsx\")\n",
    "data.head()"
   ]
  },
  {
   "cell_type": "markdown",
   "id": "cd64bb75",
   "metadata": {},
   "source": [
    "convert string to numeric values for logistic regression"
   ]
  },
  {
   "cell_type": "code",
   "execution_count": 3,
   "id": "efd8a463",
   "metadata": {},
   "outputs": [
    {
     "data": {
      "text/html": [
       "<div>\n",
       "<style scoped>\n",
       "    .dataframe tbody tr th:only-of-type {\n",
       "        vertical-align: middle;\n",
       "    }\n",
       "\n",
       "    .dataframe tbody tr th {\n",
       "        vertical-align: top;\n",
       "    }\n",
       "\n",
       "    .dataframe thead th {\n",
       "        text-align: right;\n",
       "    }\n",
       "</style>\n",
       "<table border=\"1\" class=\"dataframe\">\n",
       "  <thead>\n",
       "    <tr style=\"text-align: right;\">\n",
       "      <th></th>\n",
       "      <th>Stunden</th>\n",
       "      <th>Punkte</th>\n",
       "      <th>Bestande</th>\n",
       "    </tr>\n",
       "  </thead>\n",
       "  <tbody>\n",
       "    <tr>\n",
       "      <th>0</th>\n",
       "      <td>2</td>\n",
       "      <td>49</td>\n",
       "      <td>0</td>\n",
       "    </tr>\n",
       "    <tr>\n",
       "      <th>1</th>\n",
       "      <td>7</td>\n",
       "      <td>38</td>\n",
       "      <td>0</td>\n",
       "    </tr>\n",
       "    <tr>\n",
       "      <th>2</th>\n",
       "      <td>0</td>\n",
       "      <td>7</td>\n",
       "      <td>0</td>\n",
       "    </tr>\n",
       "    <tr>\n",
       "      <th>3</th>\n",
       "      <td>12</td>\n",
       "      <td>129</td>\n",
       "      <td>1</td>\n",
       "    </tr>\n",
       "    <tr>\n",
       "      <th>4</th>\n",
       "      <td>1</td>\n",
       "      <td>4</td>\n",
       "      <td>0</td>\n",
       "    </tr>\n",
       "  </tbody>\n",
       "</table>\n",
       "</div>"
      ],
      "text/plain": [
       "   Stunden  Punkte  Bestande\n",
       "0        2      49         0\n",
       "1        7      38         0\n",
       "2        0       7         0\n",
       "3       12     129         1\n",
       "4        1       4         0"
      ]
     },
     "execution_count": 3,
     "metadata": {},
     "output_type": "execute_result"
    }
   ],
   "source": [
    "data[\"Bestande\"] = data[\"Bestande\"].map({\"WHACK\":0,\"Durchschnitt\":1})\n",
    "data.head()"
   ]
  },
  {
   "cell_type": "markdown",
   "id": "96b899a8",
   "metadata": {},
   "source": [
    "split train and test data and define columns for model training"
   ]
  },
  {
   "cell_type": "code",
   "execution_count": 4,
   "id": "ef17e292",
   "metadata": {},
   "outputs": [],
   "source": [
    "# test_size is ratio between split, could be other value than 30%\n",
    "train, test = sp(data, test_size = .3)\n",
    "\n",
    "x = data[\"Stunden\"].values.reshape(-1, 1)\n",
    "y = data[\"Bestande\"].values\n",
    "\n",
    "x_train = train[\"Stunden\"].values.reshape(-1, 1)\n",
    "y_train = train[\"Bestande\"].values\n",
    "\n",
    "x_test = test[\"Stunden\"].values.reshape(-1, 1)\n",
    "y_test = test[\"Bestande\"].values"
   ]
  },
  {
   "cell_type": "markdown",
   "id": "d76975d7",
   "metadata": {},
   "source": [
    "plot data for quick overview"
   ]
  },
  {
   "cell_type": "code",
   "execution_count": 5,
   "id": "bce7bb7b",
   "metadata": {},
   "outputs": [
    {
     "data": {
      "text/plain": [
       "<matplotlib.collections.PathCollection at 0x7fd530e897f0>"
      ]
     },
     "execution_count": 5,
     "metadata": {},
     "output_type": "execute_result"
    },
    {
     "data": {
      "image/png": "[encoded data removed]",
      "text/plain": [
       "<Figure size 432x288 with 1 Axes>"
      ]
     },
     "metadata": {
      "needs_background": "light"
     },
     "output_type": "display_data"
    }
   ],
   "source": [
    "plt.scatter(x, y)"
   ]
  },
  {
   "cell_type": "markdown",
   "id": "13844ca3",
   "metadata": {},
   "source": [
    "training logistic model with training data"
   ]
  },
  {
   "cell_type": "code",
   "execution_count": 6,
   "id": "f924bdf0",
   "metadata": {},
   "outputs": [],
   "source": [
    "model = lor().fit(x_train, y_train)"
   ]
  },
  {
   "cell_type": "markdown",
   "id": "3973fbb1",
   "metadata": {},
   "source": [
    "define random values and predicting their probability"
   ]
  },
  {
   "cell_type": "code",
   "execution_count": 7,
   "id": "a4620248",
   "metadata": {},
   "outputs": [],
   "source": [
    "x_predict = np.linspace(0, 12, 20).reshape(-1, 1)\n",
    "y_predict = model.predict_proba(x_predict)[:,1]"
   ]
  },
  {
   "cell_type": "markdown",
   "id": "4170db3c",
   "metadata": {},
   "source": [
    "plot data and logistic regression"
   ]
  },
  {
   "cell_type": "code",
   "execution_count": 8,
   "id": "8cd51010",
   "metadata": {},
   "outputs": [
    {
     "data": {
      "image/png": "[encoded data removed]",
      "text/plain": [
       "<Figure size 432x288 with 1 Axes>"
      ]
     },
     "metadata": {
      "needs_background": "light"
     },
     "output_type": "display_data"
    }
   ],
   "source": [
    "plt.scatter(x, y)\n",
    "plt.plot(x_predict, y_predict, color = \"y\")\n",
    "plt.show()"
   ]
  },
  {
   "cell_type": "markdown",
   "id": "88f91238",
   "metadata": {},
   "source": [
    "calculate score for model, values are between 0 and 1 (the higher, the better)"
   ]
  },
  {
   "cell_type": "code",
   "execution_count": 9,
   "id": "b876c8cf",
   "metadata": {},
   "outputs": [
    {
     "data": {
      "text/plain": [
       "0.78125"
      ]
     },
     "execution_count": 9,
     "metadata": {},
     "output_type": "execute_result"
    }
   ],
   "source": [
    "model.score(x_test, y_test)"
   ]
  },
  {
   "cell_type": "markdown",
   "id": "4766296f",
   "metadata": {},
   "source": [
    "split train and test data and define columns for model training"
   ]
  },
  {
   "cell_type": "code",
   "execution_count": 10,
   "id": "9de9331d",
   "metadata": {},
   "outputs": [],
   "source": [
    "x = data[\"Stunden\"].values.reshape(-1, 1)\n",
    "y = data[\"Punkte\"].values.reshape(-1, 1)"
   ]
  },
  {
   "cell_type": "markdown",
   "id": "5b6fb8a3",
   "metadata": {},
   "source": [
    "plot data for quick overview"
   ]
  },
  {
   "cell_type": "code",
   "execution_count": 11,
   "id": "b2b2e3e3",
   "metadata": {},
   "outputs": [
    {
     "data": {
      "text/plain": [
       "<matplotlib.collections.PathCollection at 0x7fd513dd0df0>"
      ]
     },
     "execution_count": 11,
     "metadata": {},
     "output_type": "execute_result"
    },
    {
     "data": {
      "image/png": "[encoded data removed]",
      "text/plain": [
       "<Figure size 432x288 with 1 Axes>"
      ]
     },
     "metadata": {
      "needs_background": "light"
     },
     "output_type": "display_data"
    }
   ],
   "source": [
    "plt.scatter(x, y)"
   ]
  },
  {
   "cell_type": "markdown",
   "id": "e491f21e",
   "metadata": {},
   "source": [
    "train linear model"
   ]
  },
  {
   "cell_type": "code",
   "execution_count": 12,
   "id": "f83c6968",
   "metadata": {},
   "outputs": [],
   "source": [
    "model = lir().fit(x, y)\n",
    "coef = model.coef_[0]\n",
    "intercept = model.intercept_"
   ]
  },
  {
   "cell_type": "markdown",
   "id": "868c1140",
   "metadata": {},
   "source": [
    "plot model"
   ]
  },
  {
   "cell_type": "code",
   "execution_count": 13,
   "id": "216679ee",
   "metadata": {},
   "outputs": [
    {
     "data": {
      "image/png": "[encoded data removed]",
      "text/plain": [
       "<Figure size 432x288 with 1 Axes>"
      ]
     },
     "metadata": {
      "needs_background": "light"
     },
     "output_type": "display_data"
    }
   ],
   "source": [
    "plt.scatter(x, y, color = \"pink\")\n",
    "plt.plot(x, coef * x + intercept, color = \"fuchsia\")\n",
    "plt.show()"
   ]
  },
  {
   "cell_type": "markdown",
   "id": "60f31c0d",
   "metadata": {},
   "source": [
    "check residues (error despendent?)"
   ]
  },
  {
   "cell_type": "code",
   "execution_count": 14,
   "id": "ce6d9cf5",
   "metadata": {},
   "outputs": [
    {
     "data": {
      "image/png": "[encoded data removed]",
      "text/plain": [
       "<Figure size 432x288 with 1 Axes>"
      ]
     },
     "metadata": {
      "needs_background": "light"
     },
     "output_type": "display_data"
    }
   ],
   "source": [
    "plt.scatter(x, y - (coef * x + intercept), color = \"pink\")\n",
    "plt.plot(x, 0 * x, color = \"fuchsia\")\n",
    "plt.show()"
   ]
  },
  {
   "cell_type": "markdown",
   "id": "69322014",
   "metadata": {},
   "source": [
    "plot residues as histogram (expected value = 0 and normal distribution)"
   ]
  },
  {
   "cell_type": "code",
   "execution_count": 15,
   "id": "df69bf7f",
   "metadata": {},
   "outputs": [
    {
     "data": {
      "image/png": "[encoded data removed]",
      "text/plain": [
       "<Figure size 432x288 with 1 Axes>"
      ]
     },
     "metadata": {
      "needs_background": "light"
     },
     "output_type": "display_data"
    }
   ],
   "source": [
    "plt.hist(y - (coef * x + intercept), bins = 20, color = \"cyan\")\n",
    "plt.axvline(np.mean(y - (coef * x + intercept)), color = \"black\")\n",
    "plt.show()"
   ]
  },
  {
   "cell_type": "markdown",
   "id": "74bb15c8",
   "metadata": {},
   "source": [
    "calculate r2 value"
   ]
  },
  {
   "cell_type": "code",
   "execution_count": 16,
   "id": "5bfc76c8",
   "metadata": {},
   "outputs": [
    {
     "name": "stdout",
     "output_type": "stream",
     "text": [
      "R2: 0.5835324959871742\n"
     ]
    }
   ],
   "source": [
    "print(\"R2:\", model.score(x,y))"
   ]
  }
 ],
 "metadata": {
  "kernelspec": {
   "display_name": "Python 3 (ipykernel)",
   "language": "python",
   "name": "python3"
  },
  "language_info": {
   "codemirror_mode": {
    "name": "ipython",
    "version": 3
   },
   "file_extension": ".py",
   "mimetype": "text/x-python",
   "name": "python",
   "nbconvert_exporter": "python",
   "pygments_lexer": "ipython3",
   "version": "3.9.7"
  }
 },
 "nbformat": 4,
 "nbformat_minor": 5
}
